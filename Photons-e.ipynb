{
 "cells": [
  {
   "cell_type": "code",
   "execution_count": 1,
   "id": "993cc77d",
   "metadata": {},
   "outputs": [
    {
     "name": "stdout",
     "output_type": "stream",
     "text": [
      "Numbers of photons in 2W = 1.071260e+19\n",
      "Numbers of photons in 2W in a length of 1m space = 3.573338e+10\n",
      "Numbers of photons in 2W in 1ns = 1.071260e+10\n",
      "Numbers of photons in 500pW = 2.678150e+09\n",
      "Numbers of photons in 500pW per nano-s = 2.678150e+00\n",
      "Numbers of photons in 500pW_per_meter = 8.933346e+00\n"
     ]
    }
   ],
   "source": [
    "import numpy as np\n",
    "import os\n",
    "import sys\n",
    "class ExpFloatFileObject:\n",
    "    def write(self, s):\n",
    "        try:\n",
    "            s = \"%e\"%float(s)\n",
    "        except ValueError:\n",
    "            pass\n",
    "        sys.__stdout__.write(s)\n",
    "\n",
    "    def __getattr__(self, name):\n",
    "        return getattr(sys.__stdout__, name)\n",
    "sys.stdout = ExpFloatFileObject()\n",
    "# hc in Joules.meter\n",
    "hc = 1.986446e-25\n",
    "# wavelength (1064nm) in meter\n",
    "wave = 1.064e-6\n",
    "# Energy per photon in Joules\n",
    "Eph = hc / wave\n",
    "# Numbers of photons in 2W\n",
    "Number = 2 / Eph\n",
    "# Velocity of light in m/s\n",
    "c = 299792458\n",
    "# Numbers of photons in 2W in a length of 1m space\n",
    "Num1m = Number / c\n",
    "# Numbers of photons in 2W in a length of 1Å space\n",
    "Num1nm = Num1m / 1e10\n",
    "# Numbers of photons in 1ns\n",
    "Num1ns = Number / 1e9\n",
    "# Numbers of photons in 500pW\n",
    "Number_pW = 5e-10 / Eph\n",
    "# Numbers of photons in 500pW per micro-s\n",
    "Number_pW_µs = 5e-10 / Eph / 1e6\n",
    "# Numbers of photons in 500pW per nano-s\n",
    "Number_pW_ns = 5e-10 / Eph / 1e9\n",
    "# Numbers of photons in 500pW per 0.25s or 4Hz\n",
    "Number_pW_4Hz = 5e-10 / Eph / 4\n",
    "# Numbers of photons in 500pW_per_meter\n",
    "Number_pW_m = 5e-10 / Eph / c\n",
    "# wavelength of GW at 100mHz in meter\n",
    "waveGW = c / 1e-1\n",
    "# photons in 5µs\n",
    "Number_2micros = Number * 5e-6\n",
    "print(\"Numbers of photons in 2W =\", round (Number,2) )\n",
    "print(\"Numbers of photons in 2W in a length of 1m space =\", round (Num1m, 1) )\n",
    "print(\"Numbers of photons in 2W in 1ns =\", Num1ns)\n",
    "print(\"Numbers of photons in 500pW =\", Number_pW)\n",
    "#print(\"Numbers of photons in 500pW per micro-s =\", Number_pW_µs)\n",
    "print(\"Numbers of photons in 500pW per nano-s =\", Number_pW_ns)\n",
    "print(\"Numbers of photons in 500pW_per_meter =\", Number_pW_m)"
   ]
  },
  {
   "cell_type": "code",
   "execution_count": null,
   "id": "b2a2c4e5",
   "metadata": {},
   "outputs": [],
   "source": []
  }
 ],
 "metadata": {
  "kernelspec": {
   "display_name": "Python 3 (ipykernel)",
   "language": "python",
   "name": "python3"
  },
  "language_info": {
   "codemirror_mode": {
    "name": "ipython",
    "version": 3
   },
   "file_extension": ".py",
   "mimetype": "text/x-python",
   "name": "python",
   "nbconvert_exporter": "python",
   "pygments_lexer": "ipython3",
   "version": "3.10.9"
  }
 },
 "nbformat": 4,
 "nbformat_minor": 5
}
